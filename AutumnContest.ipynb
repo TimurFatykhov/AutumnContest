{
 "cells": [
  {
   "cell_type": "markdown",
   "metadata": {
    "collapsed": true
   },
   "source": [
    "# <center> Открытый региональный конкурс по информатике и программированию\n",
    "## <center> Отборочный этап (БДиМО)"
   ]
  },
  {
   "cell_type": "markdown",
   "metadata": {},
   "source": [
    "## Вступление\n",
    "\n",
    "Многие считают что 80% рабочего времени аналитики данных обучают модели машинного обучения, подбирая гипер-параметры нейросетей, случайных лесов, градиентных методов (xgboost, lgbm). Но на самом деле это требует не более 20% от всех трудозатрат. Большая же часть времени уходит на подготовку данных: устранение аномалий, приведение данных к требуемой форме (например, извлечение изображений из медицинских данных формата .dicom), на генерацию новых признаков (или новых \"фич\" от англ. feature, в матрицах данных это столбцы), на исследование зависимостей между столбцами матриц данных или на сбор данных. Таким образом, очень важным навыком является умение работать с такими библиотеками как pandas, numpy, PIL, glob, torch, albumentations, tensorflow. Если речь идет о классическом машинном обучении (чаще всего это задачи, связанные с табличными данными), то главным инструментом будет являться библиотека pandas. Навыки работы именно с этой библиотекой вам и предстоит продемонстрировать в рамках данного этапа. Для тех, кто еще не знаком с данной библиотекой, вы можете изучить [материал](https://habr.com/en/company/ods/blog/322626/), подготовленный членами сообщества Open Data Science в рамках курса по классическому машинному обучению. \n",
    "\n",
    "## Правила\n",
    "\n",
    "Работать будем с датасетом (от англ. Data Set - набор данных), собранным компаниями Tinkoff и McKinsey&Company ([ссылка на датасет и сопутствующие материалы]()). В нем представлено 4 таблицы в формате comma-separated values (csv): *customer_info.csv*, *stories_description.csv*, *stories_reaction.csv*, *transactions.csv*. Описание столбцов каждой таблицы можно найти в файле *data_desc.xlsx*. В рамках данного этапа вам предлагается заняться подготовкой данных и вычислением статистик. Всего потребуется вычислить 7 статистик (например, средний возраст женщин в датасете), выбрать вариант ответа из предложенных и заполнить форму с ответами ([ссылка на форму]()). За каждое задание вы можете получить от 1 до 3 баллов (в зависимости от сложности). Рейтинг участников будет определяться по сумме набранных баллов."
   ]
  },
  {
   "cell_type": "markdown",
   "metadata": {},
   "source": [
    "## Задачи\n",
    "\n",
    "Для начала импортируйте pandas и считайте данные (которые вы скачали по ссылке):"
   ]
  },
  {
   "cell_type": "code",
   "execution_count": null,
   "metadata": {
    "collapsed": true
   },
   "outputs": [],
   "source": [
    "# ваш код здесь"
   ]
  },
  {
   "cell_type": "markdown",
   "metadata": {},
   "source": [
    "---\n",
    "### Вопрос 1. \n",
    "Какой средний возраст покупателей в таблице customer_info? \n"
   ]
  },
  {
   "cell_type": "code",
   "execution_count": null,
   "metadata": {
    "collapsed": true
   },
   "outputs": [],
   "source": [
    "# ваш код здесь"
   ]
  },
  {
   "cell_type": "markdown",
   "metadata": {},
   "source": [
    "варианты ответа (выберите самое близкое значение, [ссылка](https://forms.gle/ZjRjUXvcoUyn3dKk7) на форму для ответов) : \n",
    "\n",
    "- 33.5\n",
    "- 34.1\n",
    "- 32.7\n",
    "- 33.9\n",
    "- 31.2"
   ]
  },
  {
   "cell_type": "markdown",
   "metadata": {},
   "source": [
    "---\n",
    "### Вопрос 2. \n",
    "Какая средняя сумма транзакции в таблице transactions? \n"
   ]
  },
  {
   "cell_type": "code",
   "execution_count": null,
   "metadata": {
    "collapsed": true
   },
   "outputs": [],
   "source": [
    "# ваш код здесь"
   ]
  },
  {
   "cell_type": "markdown",
   "metadata": {},
   "source": [
    "варианты ответа (выберите самое близкое значение, [ссылка](https://forms.gle/ZjRjUXvcoUyn3dKk7) на форму для ответов) : \n",
    "\n",
    "- 976.7\n",
    "- 865.2\n",
    "- 2351.5\n",
    "- 1213.0\n",
    "- 564.3"
   ]
  },
  {
   "cell_type": "markdown",
   "metadata": {},
   "source": [
    "---\n",
    "### Вопрос 3. \n",
    "Как много \"лайков\" встречается в таблице stories_reaction? \n"
   ]
  },
  {
   "cell_type": "code",
   "execution_count": null,
   "metadata": {
    "collapsed": true
   },
   "outputs": [],
   "source": [
    "# ваш код здесь"
   ]
  },
  {
   "cell_type": "markdown",
   "metadata": {},
   "source": [
    "варианты ответа (выберите самое близкое значение, [ссылка](https://forms.gle/ZjRjUXvcoUyn3dKk7) на форму для ответов) : \n",
    "\n",
    "- 167567\n",
    "- 6575\n",
    "- 120989\n",
    "- 25432\n",
    "- 45690\n",
    "- 56687"
   ]
  },
  {
   "cell_type": "markdown",
   "metadata": {},
   "source": [
    "---\n",
    "### Вопрос 4. \n",
    "\n",
    "Какой месяц в году \"приносит\" больше всего новых пользователей?\n",
    "\n",
    "*P.S.* Здесь вам надо будет обработать столбец first_session_dttm из таблицы customer_info, именно из него можно извлечь информацию о том, в каком месяце был зарегистрирован каждый покупатель."
   ]
  },
  {
   "cell_type": "code",
   "execution_count": null,
   "metadata": {
    "collapsed": true
   },
   "outputs": [],
   "source": [
    "# ваш код здесь"
   ]
  },
  {
   "cell_type": "markdown",
   "metadata": {},
   "source": [
    "варианты ответа ([ссылка](https://forms.gle/ZjRjUXvcoUyn3dKk7) на форму для ответов): \n",
    "\n",
    "- Июль\n",
    "- Март\n",
    "- Январь\n",
    "- Май\n",
    "- Апрель\n",
    "- Октябрь"
   ]
  },
  {
   "cell_type": "markdown",
   "metadata": {},
   "source": [
    "---\n",
    "### Вопрос 5. \n",
    "\n",
    "Какое среднее количество детей у отцов и матерей в таблице customer_info (здесь потребуется воспользоваться логической индексацией [см. материалы](https://habr.com/en/company/ods/blog/322626/))"
   ]
  },
  {
   "cell_type": "code",
   "execution_count": null,
   "metadata": {
    "collapsed": true
   },
   "outputs": [],
   "source": [
    "# ваш код здесь"
   ]
  },
  {
   "cell_type": "markdown",
   "metadata": {},
   "source": [
    "варианты ответа соответственно отцы и матери (выберите самые близкие значения, [ссылка](https://forms.gle/ZjRjUXvcoUyn3dKk7) на форму для ответов) : \n",
    "\n",
    "- 1.466 и 1.464\n",
    "- 1.466 и 1.461\n",
    "- 1.462 и 1.464\n",
    "- 1.462 и 1.461\n",
    "- 1.461 и 1.464\n",
    "- 1.464 и 1.462"
   ]
  },
  {
   "cell_type": "markdown",
   "metadata": {},
   "source": [
    "---\n",
    "### Вопрос 6. \n",
    "Какие максимальные суммы транзакций были совершены покупателем-мужчиной и покупателем-женщиной? \n",
    "\n",
    "*P.S.* Для того, чтобы вычислить данную статистику, вам потребуется использовать информацию из двух таблиц: customer_info и transactions. С помощью методов \"*groupby*\" и \"*join*\" данные статистики можно вычислить за 4 строки кода (ознакомиться с этими методами можно в [материалах](https://habr.com/en/company/ods/blog/322626/) от Open Data Science)"
   ]
  },
  {
   "cell_type": "code",
   "execution_count": null,
   "metadata": {
    "collapsed": true
   },
   "outputs": [],
   "source": [
    "# ваш код здесь"
   ]
  },
  {
   "cell_type": "markdown",
   "metadata": {},
   "source": [
    "варианты ответа (выберите самые близкие значения, [ссылка](https://forms.gle/ZjRjUXvcoUyn3dKk7) на форму для ответов): \n",
    "\n",
    "- 1205000, 1798000\n",
    "- 1854500, 1066000\n",
    "- 1353400, 1351300\n",
    "- 1452300, 1244500\n",
    "- 964500, 850420"
   ]
  },
  {
   "cell_type": "markdown",
   "metadata": {},
   "source": [
    "---\n",
    "### Вопрос 7. \n",
    "\n",
    "Какие категории занимаемой должности (столбец *job_position_cd* в таблице *customer_info*) ставят больше всего дизлайков?"
   ]
  },
  {
   "cell_type": "code",
   "execution_count": null,
   "metadata": {
    "collapsed": true
   },
   "outputs": [],
   "source": [
    "# ваш код здесь"
   ]
  },
  {
   "cell_type": "markdown",
   "metadata": {},
   "source": [
    "варианты ответа ([ссылка](https://forms.gle/ZjRjUXvcoUyn3dKk7) на форму для ответов): \n",
    "\n",
    "- 2, 21\n",
    "- 5, 9\n",
    "- 15, 17\n",
    "- 5, 14\n",
    "- 16, 22\n",
    "- 9, 13\n",
    "- 1, 17\n",
    "- 4, 8\n",
    "- 6, 20"
   ]
  }
 ],
 "metadata": {
  "kernelspec": {
   "display_name": "Python 3",
   "language": "python",
   "name": "python3"
  },
  "language_info": {
   "codemirror_mode": {
    "name": "ipython",
    "version": 3
   },
   "file_extension": ".py",
   "mimetype": "text/x-python",
   "name": "python",
   "nbconvert_exporter": "python",
   "pygments_lexer": "ipython3",
   "version": "3.6.9"
  },
  "latex_envs": {
   "LaTeX_envs_menu_present": true,
   "autocomplete": true,
   "bibliofile": "biblio.bib",
   "cite_by": "apalike",
   "current_citInitial": 1,
   "eqLabelWithNumbers": true,
   "eqNumInitial": 1,
   "hotkeys": {
    "equation": "Ctrl-E",
    "itemize": "Ctrl-I"
   },
   "labels_anchors": false,
   "latex_user_defs": false,
   "report_style_numbering": false,
   "user_envs_cfg": false
  }
 },
 "nbformat": 4,
 "nbformat_minor": 2
}
